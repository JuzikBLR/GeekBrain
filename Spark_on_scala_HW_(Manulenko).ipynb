{
  "nbformat": 4,
  "nbformat_minor": 0,
  "metadata": {
    "colab": {
      "provenance": []
    },
    "kernelspec": {
      "name": "python3",
      "display_name": "Python 3"
    },
    "language_info": {
      "name": "python"
    }
  },
  "cells": [
    {
      "cell_type": "markdown",
      "source": [
        "Условие: создайте csv файл с таким содержимым:\n",
        "\n",
        "title,author,genre,sales,year\n",
        "\n",
        "\"1984\", \"George Orwell\", \"Science Fiction\", 5000, 1949\n",
        "\n",
        "\"The Lord of the Rings\", \"J.R.R. Tolkien\", \"Fantasy\", 3000, 1954\n",
        "\n",
        "\"To Kill a Mockingbird\", \"Harper Lee\", \"Southern Gothic\", 4000, 1960\n",
        "\n",
        "\"The Catcher in the Rye\", \"J.D. Salinger\", \"Novel\", 2000, 1951\n",
        "\n",
        "\"The Great Gatsby\", \"F. Scott Fitzgerald\", \"Novel\", 4500, 1925\n",
        "\n",
        "Задание:\n",
        "\n",
        "— Используя Spark прочитайте данные из файла csv.\n",
        "— Фильтруйте данные, чтобы оставить только книги, продажи которых превышают 3000 экземпляров.\n",
        "— Сгруппируйте данные по жанру и вычислите общий объем продаж для каждого жанра.\n",
        "— Отсортируйте данные по общему объему продаж в порядке убывания.\n",
        "— Выведите результаты на экран."
      ],
      "metadata": {
        "id": "2mL_JFSBeOQ-"
      }
    },
    {
      "cell_type": "code",
      "source": [
        "!pip install pyspark"
      ],
      "metadata": {
        "colab": {
          "base_uri": "https://localhost:8080/"
        },
        "id": "_Y_Zl-nAbuVG",
        "outputId": "01445b31-2029-4fa7-dbe2-0a4bce663f2e"
      },
      "execution_count": 10,
      "outputs": [
        {
          "output_type": "stream",
          "name": "stdout",
          "text": [
            "Requirement already satisfied: pyspark in /usr/local/lib/python3.10/dist-packages (3.5.3)\n",
            "Requirement already satisfied: py4j==0.10.9.7 in /usr/local/lib/python3.10/dist-packages (from pyspark) (0.10.9.7)\n"
          ]
        }
      ]
    },
    {
      "cell_type": "code",
      "execution_count": 11,
      "metadata": {
        "id": "fsbqY4UuZBvJ"
      },
      "outputs": [],
      "source": [
        "from pyspark.sql import SparkSession\n",
        "from pyspark.sql.functions import col"
      ]
    },
    {
      "cell_type": "code",
      "source": [
        "spark = SparkSession.builder \\\n",
        ".appName(\"BookAnalysis\")\\\n",
        ".getOrCreate()"
      ],
      "metadata": {
        "id": "BMZRjv2BZ8CJ"
      },
      "execution_count": 16,
      "outputs": []
    },
    {
      "cell_type": "code",
      "source": [
        "file_path = '/content/file.csv'"
      ],
      "metadata": {
        "id": "XZrgXsyKaMoO"
      },
      "execution_count": 17,
      "outputs": []
    },
    {
      "cell_type": "code",
      "source": [
        "#чтение файла\n",
        "df = spark.read.csv(file_path, header=True, inferSchema=True)"
      ],
      "metadata": {
        "id": "AqgFh2Rjadpe"
      },
      "execution_count": 18,
      "outputs": []
    },
    {
      "cell_type": "code",
      "source": [
        "#фильтрация по продажам более 3000\n",
        "filtered_df = df.filter(col('sales') > 3000)"
      ],
      "metadata": {
        "id": "gNvAe1_ZeFYA"
      },
      "execution_count": 19,
      "outputs": []
    },
    {
      "cell_type": "code",
      "source": [
        "filtered_df.show()"
      ],
      "metadata": {
        "colab": {
          "base_uri": "https://localhost:8080/"
        },
        "id": "9Eqcs8cTgZoT",
        "outputId": "ab1ebf4d-679c-46aa-d2e2-0d383fb8281a"
      },
      "execution_count": 26,
      "outputs": [
        {
          "output_type": "stream",
          "name": "stdout",
          "text": [
            "+--------------------+--------------------+--------------------+------+------+\n",
            "|               title|              author|               genre| sales|  year|\n",
            "+--------------------+--------------------+--------------------+------+------+\n",
            "|           \"\"\"1984\"\"|   \"\"George Orwell\"\"| \"\"Science Fiction\"\"|5000.0| 1949\"|\n",
            "|\"\"\"To Kill a Mock...|      \"\"Harper Lee\"\"| \"\"Southern Gothic\"\"|4000.0| 1960\"|\n",
            "|\"\"\"The Great Gats...| \"\"F. Scott Fitzg...|           \"\"Novel\"\"|4500.0| 1925\"|\n",
            "+--------------------+--------------------+--------------------+------+------+\n",
            "\n"
          ]
        }
      ]
    },
    {
      "cell_type": "code",
      "source": [
        "#группировка по жанру и объёму продаж\n",
        "sales_genre = filtered_df.groupBy('genre').agg({'sales': 'sum'}).withColumnRenamed('sum(sales)', 'total_sales')"
      ],
      "metadata": {
        "id": "tII5LJDTeTFI"
      },
      "execution_count": 23,
      "outputs": []
    },
    {
      "cell_type": "code",
      "source": [
        "sales_genre.show()"
      ],
      "metadata": {
        "colab": {
          "base_uri": "https://localhost:8080/"
        },
        "id": "huPdX7q2gh0a",
        "outputId": "9fb719cf-64e8-4b9c-a6cf-44747729043b"
      },
      "execution_count": 27,
      "outputs": [
        {
          "output_type": "stream",
          "name": "stdout",
          "text": [
            "+--------------------+-----------+\n",
            "|               genre|total_sales|\n",
            "+--------------------+-----------+\n",
            "| \"\"Southern Gothic\"\"|     4000.0|\n",
            "|           \"\"Novel\"\"|     4500.0|\n",
            "| \"\"Science Fiction\"\"|     5000.0|\n",
            "+--------------------+-----------+\n",
            "\n"
          ]
        }
      ]
    },
    {
      "cell_type": "code",
      "source": [
        "#сортировка жанров по убыванию объёмов продаж\n",
        "sort_sales = sales_genre.orderBy(col('total_sales').desc())"
      ],
      "metadata": {
        "id": "E3jIiHgZf4Wm"
      },
      "execution_count": 24,
      "outputs": []
    },
    {
      "cell_type": "code",
      "source": [
        "sort_sales.show()"
      ],
      "metadata": {
        "colab": {
          "base_uri": "https://localhost:8080/"
        },
        "id": "kSC3ej5egPGW",
        "outputId": "2d7a4100-d5ba-47c2-fed3-e5f6d39f6947"
      },
      "execution_count": 25,
      "outputs": [
        {
          "output_type": "stream",
          "name": "stdout",
          "text": [
            "+--------------------+-----------+\n",
            "|               genre|total_sales|\n",
            "+--------------------+-----------+\n",
            "| \"\"Science Fiction\"\"|     5000.0|\n",
            "|           \"\"Novel\"\"|     4500.0|\n",
            "| \"\"Southern Gothic\"\"|     4000.0|\n",
            "+--------------------+-----------+\n",
            "\n"
          ]
        }
      ]
    }
  ]
}