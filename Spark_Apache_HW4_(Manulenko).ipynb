{
  "nbformat": 4,
  "nbformat_minor": 0,
  "metadata": {
    "colab": {
      "provenance": []
    },
    "kernelspec": {
      "name": "python3",
      "display_name": "Python 3"
    },
    "language_info": {
      "name": "python"
    }
  },
  "cells": [
    {
      "cell_type": "code",
      "execution_count": 11,
      "metadata": {
        "id": "zt5fwIiSCjXQ"
      },
      "outputs": [],
      "source": [
        "# Импорт модулей\n",
        "from pyspark.sql import SparkSession\n",
        "from pyspark.sql.functions import col\n",
        "import time"
      ]
    },
    {
      "cell_type": "code",
      "source": [
        "# Создание Спарк сессии\n",
        "spark = SparkSession.builder.appName('odd_sum').getOrCreate()"
      ],
      "metadata": {
        "id": "E_HSPCl1Dy8O"
      },
      "execution_count": 12,
      "outputs": []
    },
    {
      "cell_type": "code",
      "source": [
        "# Чтение данных из источника rate\n",
        "streaming_df = spark.readStream.format('rate').option(\"rowsPerSecond\", 1).load()"
      ],
      "metadata": {
        "id": "1oFpgnITD0z9"
      },
      "execution_count": 13,
      "outputs": []
    },
    {
      "cell_type": "code",
      "source": [
        "# Фильтрация нечётных значений\n",
        "odd_df = streaming_df.filter(col('value') % 2 == 1)"
      ],
      "metadata": {
        "id": "kaqvFQx2D2Wm"
      },
      "execution_count": 14,
      "outputs": []
    },
    {
      "cell_type": "code",
      "source": [
        "# Вычисление суммы нечётных значений\n",
        "sum_df = odd_df.groupBy().sum('value').withColumnRenamed('sum(value)', 'sum_odds')"
      ],
      "metadata": {
        "id": "zqrpKld1D4TW"
      },
      "execution_count": 15,
      "outputs": []
    },
    {
      "cell_type": "code",
      "source": [
        "# Определение функции для обработки каждой партии информации\n",
        "def process_batch(df, epoch_id):\n",
        "    print(f\"Batch {epoch_id}:\")\n",
        "    df.show()"
      ],
      "metadata": {
        "id": "_OKznloQD5yi"
      },
      "execution_count": 16,
      "outputs": []
    },
    {
      "cell_type": "code",
      "source": [
        "# Запись результатов\n",
        "query = sum_df.writeStream.outputMode(\"complete\").foreachBatch(process_batch).start()"
      ],
      "metadata": {
        "id": "paoeECSiD7J1"
      },
      "execution_count": 20,
      "outputs": []
    },
    {
      "cell_type": "code",
      "source": [
        "# Ожидание завершения потока в течение 10 секунд\n",
        "time.sleep(10)"
      ],
      "metadata": {
        "colab": {
          "base_uri": "https://localhost:8080/"
        },
        "id": "ZJfu2c29D8bd",
        "outputId": "173df431-2c5e-49bf-dc08-56ad2586ce41"
      },
      "execution_count": 21,
      "outputs": [
        {
          "output_type": "stream",
          "name": "stdout",
          "text": [
            "Batch 2:\n",
            "+--------+\n",
            "|sum_odds|\n",
            "+--------+\n",
            "|       1|\n",
            "+--------+\n",
            "\n",
            "Batch 3:\n",
            "+--------+\n",
            "|sum_odds|\n",
            "+--------+\n",
            "|       1|\n",
            "+--------+\n",
            "\n",
            "Batch 4:\n",
            "+--------+\n",
            "|sum_odds|\n",
            "+--------+\n",
            "|       4|\n",
            "+--------+\n",
            "\n",
            "Batch 5:\n",
            "+--------+\n",
            "|sum_odds|\n",
            "+--------+\n",
            "|       4|\n",
            "+--------+\n",
            "\n",
            "Batch 6:\n",
            "+--------+\n",
            "|sum_odds|\n",
            "+--------+\n",
            "|       9|\n",
            "+--------+\n",
            "\n",
            "Batch 7:\n",
            "+--------+\n",
            "|sum_odds|\n",
            "+--------+\n",
            "|       9|\n",
            "+--------+\n",
            "\n",
            "Batch 8:\n",
            "+--------+\n",
            "|sum_odds|\n",
            "+--------+\n",
            "|      16|\n",
            "+--------+\n",
            "\n",
            "Batch 9:\n",
            "+--------+\n",
            "|sum_odds|\n",
            "+--------+\n",
            "|      16|\n",
            "+--------+\n",
            "\n",
            "Batch 10:\n",
            "+--------+\n",
            "|sum_odds|\n",
            "+--------+\n",
            "|      25|\n",
            "+--------+\n",
            "\n",
            "Batch 11:\n",
            "+--------+\n",
            "|sum_odds|\n",
            "+--------+\n",
            "|      25|\n",
            "+--------+\n",
            "\n"
          ]
        }
      ]
    },
    {
      "cell_type": "code",
      "source": [
        "# Остановка запроса\n",
        "query.stop()"
      ],
      "metadata": {
        "id": "yTP8auavD93G"
      },
      "execution_count": 19,
      "outputs": []
    }
  ]
}