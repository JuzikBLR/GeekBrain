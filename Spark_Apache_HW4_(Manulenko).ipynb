{
  "nbformat": 4,
  "nbformat_minor": 0,
  "metadata": {
    "colab": {
      "provenance": []
    },
    "kernelspec": {
      "name": "python3",
      "display_name": "Python 3"
    },
    "language_info": {
      "name": "python"
    }
  },
  "cells": [
    {
      "cell_type": "markdown",
      "source": [
        "Условие: используйте источник rate, напишите код, который создаст дополнительный столбец, который будет выводить сумму только нечётных чисел."
      ],
      "metadata": {
        "id": "swNLIXH3tIXR"
      }
    },
    {
      "cell_type": "code",
      "source": [
        "!pip install pyspark"
      ],
      "metadata": {
        "colab": {
          "base_uri": "https://localhost:8080/"
        },
        "id": "Sv1gr0WqsG6S",
        "outputId": "d50f2d4d-74e5-46fa-cb20-a649c2ff0036"
      },
      "execution_count": 2,
      "outputs": [
        {
          "output_type": "stream",
          "name": "stdout",
          "text": [
            "Requirement already satisfied: pyspark in /usr/local/lib/python3.10/dist-packages (3.5.3)\n",
            "Requirement already satisfied: py4j==0.10.9.7 in /usr/local/lib/python3.10/dist-packages (from pyspark) (0.10.9.7)\n"
          ]
        }
      ]
    },
    {
      "cell_type": "code",
      "execution_count": 13,
      "metadata": {
        "id": "qsDNvDQYretV"
      },
      "outputs": [],
      "source": [
        "#Импорт библиотек\n",
        "from pyspark.sql import SparkSession\n",
        "from pyspark.sql.functions import sum, when, col, lit"
      ]
    },
    {
      "cell_type": "code",
      "source": [
        "#Запуск Спарк сессии\n",
        "spark = SparkSession.builder.appName(\"Odd Sum\").getOrCreate()"
      ],
      "metadata": {
        "id": "c7eEOVSSsQYw"
      },
      "execution_count": 5,
      "outputs": []
    },
    {
      "cell_type": "code",
      "source": [
        "#Импорт значений\n",
        "data = [(1,), (2,), (3,), (4,), (5,), (6,), (7,), (8,), (9,), (10,)]"
      ],
      "metadata": {
        "id": "fjfHQoXKs7Hz"
      },
      "execution_count": 6,
      "outputs": []
    },
    {
      "cell_type": "code",
      "source": [
        "#создание датафрейм\n",
        "df = spark.createDataFrame(data, [\"rate\"])"
      ],
      "metadata": {
        "id": "URJlFyi_tCGq"
      },
      "execution_count": 7,
      "outputs": []
    },
    {
      "cell_type": "code",
      "source": [
        "#расчёт суммы нечётных значений\n",
        "odd_sum = df.select(sum(when(col(\"rate\") % 2 != 0, col(\"rate\"))).alias(\"odd_sum\")).first().odd_sum\n"
      ],
      "metadata": {
        "id": "dEV0FWKOtmrh"
      },
      "execution_count": 11,
      "outputs": []
    },
    {
      "cell_type": "code",
      "source": [
        "#добавляем столбец с суммой нечётных значений\n",
        "df = df.withColumn(\"odd_sum\", lit(odd_sum))"
      ],
      "metadata": {
        "id": "Vlf3jbdWvKWR"
      },
      "execution_count": 14,
      "outputs": []
    },
    {
      "cell_type": "code",
      "source": [
        "df.show()"
      ],
      "metadata": {
        "colab": {
          "base_uri": "https://localhost:8080/"
        },
        "id": "nZK0UdMsveV4",
        "outputId": "06daadc2-9e14-44ed-f4f5-421b49685635"
      },
      "execution_count": 15,
      "outputs": [
        {
          "output_type": "stream",
          "name": "stdout",
          "text": [
            "+----+-------+\n",
            "|rate|odd_sum|\n",
            "+----+-------+\n",
            "|   1|     25|\n",
            "|   2|     25|\n",
            "|   3|     25|\n",
            "|   4|     25|\n",
            "|   5|     25|\n",
            "|   6|     25|\n",
            "|   7|     25|\n",
            "|   8|     25|\n",
            "|   9|     25|\n",
            "|  10|     25|\n",
            "+----+-------+\n",
            "\n"
          ]
        }
      ]
    },
    {
      "cell_type": "code",
      "source": [
        "spark.stop()"
      ],
      "metadata": {
        "id": "HvBgsHhcwZ8h"
      },
      "execution_count": 16,
      "outputs": []
    }
  ]
}