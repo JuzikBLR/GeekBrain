{
  "nbformat": 4,
  "nbformat_minor": 0,
  "metadata": {
    "colab": {
      "provenance": []
    },
    "kernelspec": {
      "name": "python3",
      "display_name": "Python 3"
    },
    "language_info": {
      "name": "python"
    }
  },
  "cells": [
    {
      "cell_type": "markdown",
      "source": [
        "Домашнее задание:\n",
        "Условие: есть набор данных о продажах продуктов с информацией о дате продаж, категории продукта, количестве и выручке от продаж.\n",
        "\n",
        "Используя Apache Spark, загрузите предоставленный набор данных в DataFrame (пример данных ниже).\n",
        "\n",
        "(\"2023-11-20\", \"Electronics\", 100, 12000),\n",
        "(\"2023-11-21\", \"Electronics\", 110, 13000),\n",
        "(\"2023-11-22\", \"Electronics\", 105, 12500),\n",
        "(\"2023-11-20\", \"Clothing\", 300, 15000),\n",
        "(\"2023-11-21\", \"Clothing\", 280, 14000),\n",
        "(\"2023-11-22\", \"Clothing\", 320, 16000),\n",
        "(\"2023-11-20\", \"Books\", 150, 9000),\n",
        "(\"2023-11-21\", \"Books\", 200, 12000),\n",
        "(\"2023-11-22\", \"Books\", 180, 10000)\n",
        "\n",
        "Столбцы: \"date\", \"category\", \"quantity\", \"revenue\".\n",
        "\n",
        "С использованием оконных функций, рассчитайте среднее выручки от продаж для каждой категории продукта.\n",
        "Примените операцию pivot для того, чтобы преобразовать полученные данные таким образом, чтобы в качестве строк были категории продуктов, в качестве столбцов были дни, а значениями были средние значения выручки от продаж за соответствующий день"
      ],
      "metadata": {
        "id": "ZzdYIn-bA4ua"
      }
    },
    {
      "cell_type": "code",
      "execution_count": 29,
      "metadata": {
        "colab": {
          "base_uri": "https://localhost:8080/"
        },
        "id": "1Iibt81V-Ukk",
        "outputId": "fb865347-cf2c-4658-f15d-270b02863de0"
      },
      "outputs": [
        {
          "output_type": "stream",
          "name": "stdout",
          "text": [
            "Requirement already satisfied: pyspark in /usr/local/lib/python3.10/dist-packages (3.5.3)\n",
            "Requirement already satisfied: py4j==0.10.9.7 in /usr/local/lib/python3.10/dist-packages (from pyspark) (0.10.9.7)\n"
          ]
        }
      ],
      "source": [
        "!pip install pyspark"
      ]
    },
    {
      "cell_type": "code",
      "source": [
        "from pyspark.sql import SparkSession\n",
        "from pyspark.sql.functions import col, avg, window\n",
        "from pyspark.sql import functions as F\n",
        "from pyspark.sql import Window"
      ],
      "metadata": {
        "id": "D_ynOHzZ-n23"
      },
      "execution_count": 30,
      "outputs": []
    },
    {
      "cell_type": "code",
      "source": [
        "#Создание Спарк-сессии\n",
        "spark = SparkSession.builder.appName(\"Analysis\").getOrCreate()\n"
      ],
      "metadata": {
        "id": "LnUZFeni_Ie9"
      },
      "execution_count": 31,
      "outputs": []
    },
    {
      "cell_type": "code",
      "source": [
        "#Создание дата-фрейм\n",
        "data = [\n",
        "    (\"2023-11-20\", \"Electronics\", 100, 12000),\n",
        "(\"2023-11-21\", \"Electronics\", 110, 13000),\n",
        "(\"2023-11-22\", \"Electronics\", 105, 12500),\n",
        "(\"2023-11-20\", \"Clothing\", 300, 15000),\n",
        "(\"2023-11-21\", \"Clothing\", 280, 14000),\n",
        "(\"2023-11-22\", \"Clothing\", 320, 16000),\n",
        "(\"2023-11-20\", \"Books\", 150, 9000),\n",
        "(\"2023-11-21\", \"Books\", 200, 12000),\n",
        "(\"2023-11-22\", \"Books\", 180, 10000)\n",
        "]\n",
        "\n",
        "columns = [\"date\", \"category\", \"quantity\", \"revenue\"]\n",
        "\n",
        "df = spark.createDataFrame(data).toDF(*columns)\n",
        "\n",
        "print(\"DataFrame:\")\n",
        "df.show()"
      ],
      "metadata": {
        "colab": {
          "base_uri": "https://localhost:8080/"
        },
        "id": "0md6RV50ADh_",
        "outputId": "03d0ef28-5117-4ed3-ea1a-d6ca5cf79b5b"
      },
      "execution_count": 32,
      "outputs": [
        {
          "output_type": "stream",
          "name": "stdout",
          "text": [
            "DataFrame:\n",
            "+----------+-----------+--------+-------+\n",
            "|      date|   category|quantity|revenue|\n",
            "+----------+-----------+--------+-------+\n",
            "|2023-11-20|Electronics|     100|  12000|\n",
            "|2023-11-21|Electronics|     110|  13000|\n",
            "|2023-11-22|Electronics|     105|  12500|\n",
            "|2023-11-20|   Clothing|     300|  15000|\n",
            "|2023-11-21|   Clothing|     280|  14000|\n",
            "|2023-11-22|   Clothing|     320|  16000|\n",
            "|2023-11-20|      Books|     150|   9000|\n",
            "|2023-11-21|      Books|     200|  12000|\n",
            "|2023-11-22|      Books|     180|  10000|\n",
            "+----------+-----------+--------+-------+\n",
            "\n"
          ]
        }
      ]
    },
    {
      "cell_type": "code",
      "source": [
        "#Расчёт средней выручки\n",
        "window_spec = Window.partitionBy(\"category\", \"date\")\n",
        "df_avg = df.groupBy(\"category\").agg(avg(\"revenue\").alias(\"avg_revenue\"))\n",
        "df_avg_cat = df.join(df_avg, on=\"category\")\n",
        "\n",
        "print(\"Средняя выручка по категориям товаров:\")\n",
        "df_avg.show()"
      ],
      "metadata": {
        "colab": {
          "base_uri": "https://localhost:8080/"
        },
        "id": "F8xU9VgBAzdY",
        "outputId": "3400357e-5f82-4348-fe36-f18d2ba96721"
      },
      "execution_count": 33,
      "outputs": [
        {
          "output_type": "stream",
          "name": "stdout",
          "text": [
            "Средняя выручка по категориям товаров:\n",
            "+-----------+------------------+\n",
            "|   category|       avg_revenue|\n",
            "+-----------+------------------+\n",
            "|Electronics|           12500.0|\n",
            "|   Clothing|           15000.0|\n",
            "|      Books|10333.333333333334|\n",
            "+-----------+------------------+\n",
            "\n"
          ]
        }
      ]
    },
    {
      "cell_type": "code",
      "source": [
        "#Преобразование через pivot\n",
        "df_avg_per_day = df.groupBy(\"category\", \"date\").agg(F.avg(\"revenue\").alias(\"avg_revenue\"))\n",
        "\n",
        "pivot_df = df_avg_per_day.groupBy(\"category\").pivot(\"date\").agg(F.sum(\"avg_revenue\"))\n",
        "\n",
        "pivot_df.show()"
      ],
      "metadata": {
        "colab": {
          "base_uri": "https://localhost:8080/"
        },
        "id": "-RL3atmWEyFl",
        "outputId": "d1ac82f4-bd40-40ac-d447-f9c036857ed1"
      },
      "execution_count": 40,
      "outputs": [
        {
          "output_type": "stream",
          "name": "stdout",
          "text": [
            "+-----------+----------+----------+----------+\n",
            "|   category|2023-11-20|2023-11-21|2023-11-22|\n",
            "+-----------+----------+----------+----------+\n",
            "|Electronics|   12000.0|   13000.0|   12500.0|\n",
            "|   Clothing|   15000.0|   14000.0|   16000.0|\n",
            "|      Books|    9000.0|   12000.0|   10000.0|\n",
            "+-----------+----------+----------+----------+\n",
            "\n"
          ]
        }
      ]
    },
    {
      "cell_type": "code",
      "source": [
        "spark.stop()"
      ],
      "metadata": {
        "id": "fDIYuATSF3JP"
      },
      "execution_count": 41,
      "outputs": []
    }
  ]
}