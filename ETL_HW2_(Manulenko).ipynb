{
  "nbformat": 4,
  "nbformat_minor": 0,
  "metadata": {
    "colab": {
      "provenance": []
    },
    "kernelspec": {
      "name": "python3",
      "display_name": "Python 3"
    },
    "language_info": {
      "name": "python"
    }
  },
  "cells": [
    {
      "cell_type": "code",
      "execution_count": 10,
      "metadata": {
        "id": "OgS2tCsGnf3k"
      },
      "outputs": [],
      "source": [
        "import pandas as pd"
      ]
    },
    {
      "cell_type": "code",
      "source": [
        "df = pd.read_csv('fifa_s2.csv')"
      ],
      "metadata": {
        "id": "Ljt-pHSYn-EA"
      },
      "execution_count": 11,
      "outputs": []
    },
    {
      "cell_type": "code",
      "source": [
        "print(\"Информация о DataFrame:\")\n",
        "print(df.info())"
      ],
      "metadata": {
        "colab": {
          "base_uri": "https://localhost:8080/"
        },
        "id": "Le70DDY-oB9N",
        "outputId": "71d4bc68-5b60-40e5-e915-526299ed35c6"
      },
      "execution_count": 12,
      "outputs": [
        {
          "output_type": "stream",
          "name": "stdout",
          "text": [
            "Информация о DataFrame:\n",
            "<class 'pandas.core.frame.DataFrame'>\n",
            "RangeIndex: 2399 entries, 0 to 2398\n",
            "Data columns (total 18 columns):\n",
            " #   Column                    Non-Null Count  Dtype  \n",
            "---  ------                    --------------  -----  \n",
            " 0   ID                        2399 non-null   int64  \n",
            " 1   Name                      2399 non-null   object \n",
            " 2   Age                       2399 non-null   int64  \n",
            " 3   Nationality               2392 non-null   object \n",
            " 4   Overall                   2399 non-null   int64  \n",
            " 5   Potential                 2399 non-null   int64  \n",
            " 6   Club                      2158 non-null   object \n",
            " 7   Value                     2142 non-null   float64\n",
            " 8   Wage                      2399 non-null   int64  \n",
            " 9   Preferred Foot            2399 non-null   object \n",
            " 10  International Reputation  2389 non-null   float64\n",
            " 11  Skill Moves               2393 non-null   float64\n",
            " 12  Position                  2378 non-null   object \n",
            " 13  Joined                    2399 non-null   int64  \n",
            " 14  Contract Valid Until      2126 non-null   object \n",
            " 15  Height                    2399 non-null   float64\n",
            " 16  Weight                    2399 non-null   float64\n",
            " 17  Release Clause            2396 non-null   float64\n",
            "dtypes: float64(6), int64(6), object(6)\n",
            "memory usage: 337.5+ KB\n",
            "None\n"
          ]
        }
      ]
    },
    {
      "cell_type": "code",
      "source": [
        "missing_columns = df.columns[df.isnull().any()].tolist()\n",
        "print(\"\\nКолонки с пропущенными значениями:\")\n",
        "print(missing_columns)"
      ],
      "metadata": {
        "colab": {
          "base_uri": "https://localhost:8080/"
        },
        "id": "E2qDWAXloIsN",
        "outputId": "9ae0f44e-87c2-4dab-c69a-81cc05516ea0"
      },
      "execution_count": 13,
      "outputs": [
        {
          "output_type": "stream",
          "name": "stdout",
          "text": [
            "\n",
            "Колонки с пропущенными значениями:\n",
            "['Nationality', 'Club', 'Value', 'International Reputation', 'Skill Moves', 'Position', 'Contract Valid Until', 'Release Clause']\n"
          ]
        }
      ]
    },
    {
      "cell_type": "code",
      "source": [
        "missing_percentages = df.isnull().sum() / len(df) * 100\n",
        "print(\"\\nПроцент пропущенных значений для каждой колонки:\")\n",
        "print(missing_percentages)"
      ],
      "metadata": {
        "colab": {
          "base_uri": "https://localhost:8080/"
        },
        "id": "PP2pzeysoSBq",
        "outputId": "17edd622-7963-414d-a3f2-506aff12411b"
      },
      "execution_count": 14,
      "outputs": [
        {
          "output_type": "stream",
          "name": "stdout",
          "text": [
            "\n",
            "Процент пропущенных значений для каждой колонки:\n",
            "ID                           0.000000\n",
            "Name                         0.000000\n",
            "Age                          0.000000\n",
            "Nationality                  0.291788\n",
            "Overall                      0.000000\n",
            "Potential                    0.000000\n",
            "Club                        10.045852\n",
            "Value                       10.712797\n",
            "Wage                         0.000000\n",
            "Preferred Foot               0.000000\n",
            "International Reputation     0.416840\n",
            "Skill Moves                  0.250104\n",
            "Position                     0.875365\n",
            "Joined                       0.000000\n",
            "Contract Valid Until        11.379742\n",
            "Height                       0.000000\n",
            "Weight                       0.000000\n",
            "Release Clause               0.125052\n",
            "dtype: float64\n"
          ]
        }
      ]
    },
    {
      "cell_type": "code",
      "source": [
        "# Удаление колонок  c пропусками\n",
        "columns_to_drop = ['Contract Valid Until', 'Club', 'Value']\n",
        "df = df.drop(columns=columns_to_drop)"
      ],
      "metadata": {
        "id": "69D8gvVioch3"
      },
      "execution_count": 15,
      "outputs": []
    },
    {
      "cell_type": "code",
      "source": [
        "# Удаление строк с пропущенными значениями\n",
        "df = df.dropna()"
      ],
      "metadata": {
        "id": "jiXg7pmKouto"
      },
      "execution_count": 16,
      "outputs": []
    },
    {
      "cell_type": "code",
      "source": [
        "print(\"\\nИнформация о DataFrame после удаления колонок и строк с пропущенными значениями:\")\n",
        "print(df.info())"
      ],
      "metadata": {
        "colab": {
          "base_uri": "https://localhost:8080/"
        },
        "id": "2qjphuAeo--b",
        "outputId": "f6c6abaf-fc3f-4e68-d64b-0af9bbdeccc3"
      },
      "execution_count": 17,
      "outputs": [
        {
          "output_type": "stream",
          "name": "stdout",
          "text": [
            "\n",
            "Информация о DataFrame после удаления колонок и строк с пропущенными значениями:\n",
            "<class 'pandas.core.frame.DataFrame'>\n",
            "Index: 2358 entries, 0 to 2398\n",
            "Data columns (total 15 columns):\n",
            " #   Column                    Non-Null Count  Dtype  \n",
            "---  ------                    --------------  -----  \n",
            " 0   ID                        2358 non-null   int64  \n",
            " 1   Name                      2358 non-null   object \n",
            " 2   Age                       2358 non-null   int64  \n",
            " 3   Nationality               2358 non-null   object \n",
            " 4   Overall                   2358 non-null   int64  \n",
            " 5   Potential                 2358 non-null   int64  \n",
            " 6   Wage                      2358 non-null   int64  \n",
            " 7   Preferred Foot            2358 non-null   object \n",
            " 8   International Reputation  2358 non-null   float64\n",
            " 9   Skill Moves               2358 non-null   float64\n",
            " 10  Position                  2358 non-null   object \n",
            " 11  Joined                    2358 non-null   int64  \n",
            " 12  Height                    2358 non-null   float64\n",
            " 13  Weight                    2358 non-null   float64\n",
            " 14  Release Clause            2358 non-null   float64\n",
            "dtypes: float64(5), int64(6), object(4)\n",
            "memory usage: 294.8+ KB\n",
            "None\n"
          ]
        }
      ]
    },
    {
      "cell_type": "code",
      "source": [
        "# Приведение всех строковых значений к нижнему регистру\n",
        "df = df.applymap(lambda x: x.lower() if isinstance(x, str) else x)"
      ],
      "metadata": {
        "colab": {
          "base_uri": "https://localhost:8080/"
        },
        "id": "_PG0h6fPpYms",
        "outputId": "245fb918-6325-4f72-b111-4d54bba4e6bf"
      },
      "execution_count": 18,
      "outputs": [
        {
          "output_type": "stream",
          "name": "stderr",
          "text": [
            "<ipython-input-18-d497f14dc73d>:2: FutureWarning: DataFrame.applymap has been deprecated. Use DataFrame.map instead.\n",
            "  df = df.applymap(lambda x: x.lower() if isinstance(x, str) else x)\n"
          ]
        }
      ]
    },
    {
      "cell_type": "code",
      "source": [
        "# Удаление дубликатов\n",
        "df = df.drop_duplicates()"
      ],
      "metadata": {
        "id": "jj3ZmRp2phuw"
      },
      "execution_count": 19,
      "outputs": []
    },
    {
      "cell_type": "code",
      "source": [
        "print(\"Информация о DataFrame после удаления полных дубликатов:\")\n",
        "print(df.info())"
      ],
      "metadata": {
        "colab": {
          "base_uri": "https://localhost:8080/"
        },
        "id": "uzl12lw_pm47",
        "outputId": "40448d2f-f353-4837-f1dd-c778c1b209e9"
      },
      "execution_count": 20,
      "outputs": [
        {
          "output_type": "stream",
          "name": "stdout",
          "text": [
            "Информация о DataFrame после удаления полных дубликатов:\n",
            "<class 'pandas.core.frame.DataFrame'>\n",
            "Index: 2354 entries, 0 to 2398\n",
            "Data columns (total 15 columns):\n",
            " #   Column                    Non-Null Count  Dtype  \n",
            "---  ------                    --------------  -----  \n",
            " 0   ID                        2354 non-null   int64  \n",
            " 1   Name                      2354 non-null   object \n",
            " 2   Age                       2354 non-null   int64  \n",
            " 3   Nationality               2354 non-null   object \n",
            " 4   Overall                   2354 non-null   int64  \n",
            " 5   Potential                 2354 non-null   int64  \n",
            " 6   Wage                      2354 non-null   int64  \n",
            " 7   Preferred Foot            2354 non-null   object \n",
            " 8   International Reputation  2354 non-null   float64\n",
            " 9   Skill Moves               2354 non-null   float64\n",
            " 10  Position                  2354 non-null   object \n",
            " 11  Joined                    2354 non-null   int64  \n",
            " 12  Height                    2354 non-null   float64\n",
            " 13  Weight                    2354 non-null   float64\n",
            " 14  Release Clause            2354 non-null   float64\n",
            "dtypes: float64(5), int64(6), object(4)\n",
            "memory usage: 294.2+ KB\n",
            "None\n"
          ]
        }
      ]
    },
    {
      "cell_type": "code",
      "source": [
        "# Функция для разбиения возраста по группам\n",
        "def age_group(age):\n",
        "    if age < 20:\n",
        "        return 'до 20'\n",
        "    elif 20 <= age < 30:\n",
        "        return 'от 20 до 30'\n",
        "    elif 30 <= age < 36:\n",
        "        return 'от 30 до 36'\n",
        "    else:\n",
        "        return 'старше 36'\n",
        "df['Age Group'] = df['Age'].apply(age_group)"
      ],
      "metadata": {
        "id": "2lIF4ekeqK3C"
      },
      "execution_count": 21,
      "outputs": []
    },
    {
      "cell_type": "code",
      "source": [
        "print(\"С новой колонкой 'Age Group':\")\n",
        "print(df.head())"
      ],
      "metadata": {
        "colab": {
          "base_uri": "https://localhost:8080/"
        },
        "id": "iGTSJLLlqVtD",
        "outputId": "4e95ad3c-2b39-4a50-e71f-3dcd6c01b75f"
      },
      "execution_count": 23,
      "outputs": [
        {
          "output_type": "stream",
          "name": "stdout",
          "text": [
            "С новой колонкой 'Age Group':\n",
            "      ID           Name  Age  Nationality  Overall  Potential  Wage  \\\n",
            "0   1179      g. buffon   40        italy       88         88    77   \n",
            "2   8205          braga   35     portugal       70         70     5   \n",
            "3   9014      a. robben   34  netherlands       84         84   110   \n",
            "4  19521      j. ibehre   35      england       61         61     2   \n",
            "5  20209  ricardo costa   37     portugal       74         74     4   \n",
            "\n",
            "  Preferred Foot  International Reputation  Skill Moves Position  Joined  \\\n",
            "0          right                       4.0          1.0       gk    2018   \n",
            "2          right                       1.0          3.0      lcm    2017   \n",
            "3           left                       4.0          4.0       rm    2009   \n",
            "4          right                       1.0          2.0       st    2017   \n",
            "5          right                       2.0          2.0      lcb    2017   \n",
            "\n",
            "     Height  Weight  Release Clause    Age Group  \n",
            "0  6.333333   203.0          7400.0    старше 36  \n",
            "2  5.916667   165.0          1600.0  от 30 до 36  \n",
            "3  5.916667   176.0         25600.0  от 30 до 36  \n",
            "4  6.333333   203.0           210.0  от 30 до 36  \n",
            "5  6.000000   181.0          1600.0    старше 36  \n"
          ]
        }
      ]
    },
    {
      "cell_type": "code",
      "source": [
        "age_group_counts = df['Age Group'].value_counts()"
      ],
      "metadata": {
        "id": "T5I3YzD9qf63"
      },
      "execution_count": 24,
      "outputs": []
    },
    {
      "cell_type": "code",
      "source": [
        "print(\"\\nКоличество футболистов по возрастным группам:\")\n",
        "print(age_group_counts)"
      ],
      "metadata": {
        "colab": {
          "base_uri": "https://localhost:8080/"
        },
        "id": "JzO0MkclqlUL",
        "outputId": "ae1a57f4-3d5c-41ed-fc9f-d65970bb6f35"
      },
      "execution_count": 25,
      "outputs": [
        {
          "output_type": "stream",
          "name": "stdout",
          "text": [
            "\n",
            "Количество футболистов по возрастным группам:\n",
            "Age Group\n",
            "от 20 до 30    1619\n",
            "от 30 до 36     445\n",
            "до 20           269\n",
            "старше 36        21\n",
            "Name: count, dtype: int64\n"
          ]
        }
      ]
    }
  ]
}